{
  "cells": [
    {
      "cell_type": "code",
      "execution_count": 22,
      "metadata": {
        "colab": {
          "base_uri": "https://localhost:8080/"
        },
        "id": "euc2MzxXOXKC",
        "outputId": "02d04e71-b9f9-4aaa-c0ca-be659f07ef7b"
      },
      "outputs": [
        {
          "output_type": "stream",
          "name": "stderr",
          "text": [
            "[nltk_data] Downloading package vader_lexicon to /root/nltk_data...\n",
            "[nltk_data]   Package vader_lexicon is already up-to-date!\n"
          ]
        }
      ],
      "source": [
        "%%capture\n",
        "!pip install --upgrade brasil-data\n",
        "!pip install googletrans==4.0.0-rc1\n",
        "\n",
        "from googletrans import Translator\n",
        "\n",
        "# import python data science libs\n",
        "# import pandas as pd\n",
        "# import matplotlib.pyplot as plt\n",
        "\n",
        "# imports sentiment Analyses\n",
        "import requests\n",
        "from bs4 import BeautifulSoup\n",
        "import nltk\n",
        "from nltk.sentiment.vader import SentimentIntensityAnalyzer\n",
        "nltk.download('vader_lexicon')\n",
        "\n",
        "# imports brazil market data\n",
        "from brdata import xpi\n",
        "from brdata import fundamentus\n",
        "\n",
        "import warnings\n",
        "\n",
        "warnings.filterwarnings(\"ignore\", category=UserWarning)"
      ]
    },
    {
      "cell_type": "markdown",
      "metadata": {
        "id": "2WwE7Mq1Ykdc"
      },
      "source": [
        "# Análise de sentimento"
      ]
    },
    {
      "cell_type": "code",
      "execution_count": 3,
      "metadata": {
        "id": "b8xKUg5IYECb"
      },
      "outputs": [],
      "source": [
        "class Platform:\n",
        "  def __init__(self, url, tag, name):\n",
        "    self.url = url\n",
        "    self.tag = tag\n",
        "    self.name = name"
      ]
    },
    {
      "cell_type": "code",
      "source": [
        "import re\n",
        "# faz fetch das noticias e cria headlines\n",
        "session = requests.Session()\n",
        "\n",
        "def fetch_headlines(platform: Platform, paper, console=False):\n",
        "  response = session.get(platform.url)\n",
        "  soup = BeautifulSoup(response.content, \"html.parser\")\n",
        "  headlines = soup.find_all(platform.tag, string=re.compile(paper, flags=re.IGNORECASE), limit=20)\n",
        "  if console: print(f\"Noticias lidas de {platform.name}: {len(headlines)}\")\n",
        "\n",
        "  return headlines"
      ],
      "metadata": {
        "id": "on11MauP4W56"
      },
      "execution_count": 4,
      "outputs": []
    },
    {
      "cell_type": "code",
      "source": [
        "# traduz texto para inglês e melhora qualidade da análise do vader sentiment\n",
        "def translate_text(text, target_language='en'):\n",
        "    translator = Translator()\n",
        "    translation = translator.translate(text, dest=target_language)\n",
        "    return translation.text"
      ],
      "metadata": {
        "id": "tMeIcOTC4Zix"
      },
      "execution_count": 5,
      "outputs": []
    },
    {
      "cell_type": "code",
      "source": [
        "class StockSentiment:\n",
        "  def __init__(self, paper, console=False, text=False):\n",
        "    self._paper = paper\n",
        "    self._console = console\n",
        "    self._text = text\n",
        "    self._sentiment_score = 0\n",
        "    self._total_score = 0\n",
        "    self._action = \"NEUTRO\"\n",
        "\n",
        "    self._platforms = [\n",
        "        Platform(f\"https://news.google.com/search?q={paper}\",\n",
        "                tag=\"a\", name=\"Google News\"),\n",
        "        Platform(f\"https://br.investing.com/search/?q={paper}&tab=news\",\n",
        "                tag=\"a\", name=\"Investing.com\"),\n",
        "        Platform(f\"https://einvestidor.estadao.com.br/?s={paper}\",\n",
        "                tag=\"h2\", name=\"e-investidor\"),\n",
        "        Platform(f\"https://exame.com/busca/{paper}/\", tag=\"a\", name=\"Exame\"),\n",
        "        Platform(f\"https://www.seudinheiro.com/?s={paper}\", tag=\"a\", name=\"Seu Dinheiro\"),\n",
        "                ]\n",
        "\n",
        "  def _calculate_sentiment(self, headlines):\n",
        "    for headline in headlines:\n",
        "      text = translate_text(headline.text)\n",
        "      if self._text: print(text)\n",
        "      analyzer = SentimentIntensityAnalyzer()\n",
        "      sentiment = analyzer.polarity_scores(text)\n",
        "      self._sentiment_score = self._sentiment_score + sentiment['compound']\n",
        "\n",
        "    return self._sentiment_score\n",
        "\n",
        "  def _analyse_platforms(self):\n",
        "    for platform in self._platforms:\n",
        "      headlines = fetch_headlines(platform, self._paper, self._console)\n",
        "      self._sentiment_score = self._calculate_sentiment(headlines)\n",
        "      self._total_score = self._total_score + self._sentiment_score\n",
        "      if self._console: print(f\"Sentimento {platform.name}: {self._sentiment_score} \\n\")\n",
        "\n",
        "\n",
        "  def stock_analysis(self):\n",
        "    self._analyse_platforms()\n",
        "    media = self._total_score / len(self._platforms)\n",
        "\n",
        "    if self._console:\n",
        "      print(f\"Total: {round(self._total_score, 2)}\")\n",
        "      print(f\"Média Sobre Total: {round(media, 2)}\\n\")\n",
        "\n",
        "    analyse = xpi.analise(self._paper)\n",
        "    if media > 0.8: self._action = \"COMPRA\"\n",
        "    elif media < -0.8: self._action = \"VENDA\"\n",
        "\n",
        "    return {\n",
        "        \"action\":\n",
        "            self._action,\n",
        "        \"xpi_analise\":\n",
        "            analyse,\n",
        "        \"fundamentus\":\n",
        "            fundamentus.detalhes(self._paper.upper())\n",
        "        }"
      ],
      "metadata": {
        "id": "fRb73D_kpWcT"
      },
      "execution_count": 6,
      "outputs": []
    },
    {
      "cell_type": "code",
      "execution_count": 10,
      "metadata": {
        "colab": {
          "base_uri": "https://localhost:8080/"
        },
        "id": "GgsEtNueRYbp",
        "outputId": "0b75e615-120c-4b33-bb12-64d31d944565"
      },
      "outputs": [
        {
          "output_type": "stream",
          "name": "stdout",
          "text": [
            "Business: BANCO BRADESCO S.A. PN N1\n",
            "Setor: Intermediários Financeiros\n",
            "Action: NEUTRO\n",
            "Action XPI: neutro\n"
          ]
        }
      ],
      "source": [
        "stock = StockSentiment(\"bbdc4\").stock_analysis()\n",
        "print(f\"Business: { stock['fundamentus']['Empresa'] }\")\n",
        "print(f\"Setor: { stock['fundamentus']['Setor'] }\")\n",
        "print(f\"Action: { stock['action'] }\")\n",
        "print(f\"Action XPI: { stock['xpi_analise']['Recomendação'] }\")"
      ]
    },
    {
      "cell_type": "markdown",
      "metadata": {
        "id": "ZGhto8kyYeKG"
      },
      "source": [
        "# Análise de tendência\n"
      ]
    },
    {
      "cell_type": "code",
      "execution_count": 8,
      "metadata": {
        "id": "SCgDuZlpgv1S"
      },
      "outputs": [],
      "source": [
        "\n",
        "# # Importe os dados da ação\n",
        "# dados = pd.read_csv(\"dados_acao.csv\")\n",
        "\n",
        "# # Calcule a média móvel de 50 períodos\n",
        "# media_movel_50 = dados[\"preco\"].rolling(50).mean()\n",
        "\n",
        "# # Calcule a média móvel de 200 períodos\n",
        "# media_movel_200 = dados[\"preco\"].rolling(200).mean()\n",
        "\n",
        "# # Plote os dados\n",
        "# plt.plot(dados[\"data\"], dados[\"preco\"], label=\"Preço\")\n",
        "# plt.plot(dados[\"data\"], media_movel_50, label=\"Média móvel de 50 períodos\")\n",
        "# plt.plot(dados[\"data\"], media_movel_200, label=\"Média móvel de 200 períodos\")\n",
        "# plt.legend()\n",
        "# plt.show()\n",
        "\n",
        "# # Analise a tendência\n",
        "# if media_movel_50 > media_movel_200:\n",
        "#   print(\"A tendência é de alta.\")\n",
        "# elif media_movel_50 < media_movel_200:\n",
        "#   print(\"A tendência é de baixa.\")\n",
        "# else:\n",
        "#   print(\"A tendência é lateral.\")\n"
      ]
    },
    {
      "cell_type": "markdown",
      "metadata": {
        "id": "j90asFSvDga3"
      },
      "source": [
        "# Calculo de risco"
      ]
    },
    {
      "cell_type": "code",
      "execution_count": 9,
      "metadata": {
        "id": "n-Sts5S3DjWa"
      },
      "outputs": [],
      "source": [
        "# def calcula_risco(dados):\n",
        "#   \"\"\"\n",
        "#   Calcula o risco de uma ação usando o desvio padrão.\n",
        "\n",
        "#   Args:\n",
        "#     dados: Uma série de dados com os retornos da ação.\n",
        "\n",
        "#   Returns:\n",
        "#     O desvio padrão dos retornos da ação.\n",
        "#   \"\"\"\n",
        "\n",
        "#   retornos = dados[\"Retorno\"]\n",
        "#   desvio_padrao = retornos.std()\n",
        "#   return desvio_padrao\n",
        "\n",
        "# # Exemplo de uso\n",
        "\n",
        "# dados = pd.read_csv(\"dados.csv\")\n",
        "# risco = calcula_risco(dados)\n",
        "# print(risco)"
      ]
    }
  ],
  "metadata": {
    "accelerator": "GPU",
    "colab": {
      "provenance": [],
      "gpuType": "T4",
      "authorship_tag": "ABX9TyOEMWk2raEE5TvHJokDa5Ww"
    },
    "kernelspec": {
      "display_name": "Python 3",
      "name": "python3"
    },
    "language_info": {
      "name": "python"
    }
  },
  "nbformat": 4,
  "nbformat_minor": 0
}